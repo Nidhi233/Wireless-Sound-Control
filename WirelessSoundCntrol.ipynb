{
 "cells": [
  {
   "cell_type": "code",
   "execution_count": 1,
   "metadata": {},
   "outputs": [
    {
     "ename": "KeyboardInterrupt",
     "evalue": "",
     "output_type": "error",
     "traceback": [
      "\u001b[1;31m---------------------------------------------------------------------------\u001b[0m",
      "\u001b[1;31mKeyboardInterrupt\u001b[0m                         Traceback (most recent call last)",
      "\u001b[1;32mc:\\Users\\nidhi\\OneDrive\\Documents\\Nidhi\\Coincent\\Project\\WirelessSoundCntrol.ipynb Cell 1'\u001b[0m in \u001b[0;36m<module>\u001b[1;34m\u001b[0m\n\u001b[0;32m     <a href='vscode-notebook-cell:/c%3A/Users/nidhi/OneDrive/Documents/Nidhi/Coincent/Project/WirelessSoundCntrol.ipynb#ch0000000?line=67'>68</a>\u001b[0m         cv2\u001b[39m.\u001b[39mputText(image , \u001b[39mstr\u001b[39m(\u001b[39mint\u001b[39m(volPer)) , (\u001b[39m40\u001b[39m, \u001b[39m450\u001b[39m) ,cv2\u001b[39m.\u001b[39mFONT_HERSHEY_PLAIN ,\u001b[39m4\u001b[39m , (\u001b[39m24\u001b[39m,\u001b[39m34\u001b[39m,\u001b[39m34\u001b[39m) , \u001b[39m3\u001b[39m)\n\u001b[0;32m     <a href='vscode-notebook-cell:/c%3A/Users/nidhi/OneDrive/Documents/Nidhi/Coincent/Project/WirelessSoundCntrol.ipynb#ch0000000?line=70'>71</a>\u001b[0m cv2\u001b[39m.\u001b[39mimshow(\u001b[39m\"\u001b[39m\u001b[39mHand\u001b[39m\u001b[39m\"\u001b[39m, image)\n\u001b[1;32m---> <a href='vscode-notebook-cell:/c%3A/Users/nidhi/OneDrive/Documents/Nidhi/Coincent/Project/WirelessSoundCntrol.ipynb#ch0000000?line=71'>72</a>\u001b[0m cv2\u001b[39m.\u001b[39;49mwaitKey(\u001b[39m1\u001b[39;49m)\n",
      "\u001b[1;31mKeyboardInterrupt\u001b[0m: "
     ]
    }
   ],
   "source": [
    "import cv2 \n",
    "import mediapipe as mp\n",
    "from sympy import re\n",
    "import math \n",
    "import numpy as np\n",
    "\n",
    "from ctypes import cast,POINTER\n",
    "from comtypes import CLSCTX_ALL\n",
    "from pycaw.pycaw import AudioUtilities, IAudioEndpointVolume\n",
    "\n",
    "mp_drawing = mp.solutions.drawing_utils\n",
    "mp_hands = mp.solutions.hands\n",
    "hands = mp_hands.Hands()\n",
    "\n",
    "devices = AudioUtilities.GetSpeakers()\n",
    "interface = devices.Activate(\n",
    "    IAudioEndpointVolume._iid_,CLSCTX_ALL,None)\n",
    "volume = cast(interface,POINTER(IAudioEndpointVolume))\n",
    "\n",
    "'''volume.GetMute()\n",
    "volume.GetMasterVolumeLevel()\n",
    "volume.GetVolumeRange()\n",
    "volume.SetMasterVolumeLevel(-20.0,None)'''\n",
    "\n",
    "cap = cv2.VideoCapture(0)\n",
    "\n",
    "while True:\n",
    "    success, image = cap.read()\n",
    "    image = cv2.cvtColor(image, cv2.COLOR_BGR2RGB)\n",
    "    results = hands.process(image)\n",
    "\n",
    "    if results.multi_hand_landmarks:\n",
    "        for handLms in results.multi_hand_landmarks:\n",
    "            lmList = []\n",
    "            for id,lm in enumerate(handLms.landmark):\n",
    "                #print(id,lm)\n",
    "                h,w,c = image.shape\n",
    "                cx,cy = int(lm.x*w), int(lm.y*h)\n",
    "                #print(id,cx,cy)\n",
    "                lmList.append([id,cx,cy])\n",
    "                #print(lmList)\n",
    "                #mp.drawing.draw_landmarks(image,handLms,mp_hands.HAND_CONNECTIONS)  \n",
    "\n",
    "            if lmList:\n",
    "                x1,y1 = lmList[4][1], lmList[4][2]\n",
    "                x2,y2 = lmList[8][1], lmList[8][2]\n",
    "                cv2.circle(image,(x1,y1),15,(134,23,42),cv2.FILLED)\n",
    "                cv2.circle(image,(x2,y2),15,(134,23,42),cv2.FILLED)\n",
    "                cv2.line(image,(x1,y1),(x2,y2),(2,45,123),5)\n",
    "                length = math.hypot(x2-x1, y2-y1)\n",
    "                #print(length)\n",
    "\n",
    "                if (length<50):\n",
    "                    z1 = (x1+x2)//2\n",
    "                    z2 = (y1+y2)//2\n",
    "                    cv2.circle(image,(z1,z2),25,(14,123,142),cv2.FILLED)\n",
    "            \n",
    "            volRange = volume.GetVolumeRange()\n",
    "            minVol = volRange[0]\n",
    "            maxVol = volRange[1]\n",
    "            vol = np.interp(length,[50,300],[minVol,maxVol])\n",
    "            volBar = np.interp(length , [50 ,300] , [400 ,150])\n",
    "            volPer = np.interp(length , [50 ,300] , [0 ,100])\n",
    "            volume.SetMasterVolumeLevel(vol,None)\n",
    "\n",
    "            cv2.rectangle(image , (50 ,150) , (85 , 400) ,(123,213,122) ,3)\n",
    "            cv2.rectangle(image , (50 , int(volBar)) , (85 ,400) ,(0, 231,23) ,cv2.FILLED)\n",
    "            cv2.putText(image , str(int(volPer)) , (40, 450) ,cv2.FONT_HERSHEY_PLAIN ,4 , (24,34,34) , 3)\n",
    "\n",
    "\n",
    "    cv2.imshow(\"Hand\", image)\n",
    "    cv2.waitKey(1)\n",
    "    \n",
    "\n",
    "#length - 50-300\n",
    "#-65.25---> vol=0\n",
    "#0.0--->vol=100"
   ]
  }
 ],
 "metadata": {
  "interpreter": {
   "hash": "6d51013ea74552c0a122bd1356954875c65f1d12afbf804e2ceefe89979e8b10"
  },
  "kernelspec": {
   "display_name": "Python 3.9.10 64-bit",
   "language": "python",
   "name": "python3"
  },
  "language_info": {
   "codemirror_mode": {
    "name": "ipython",
    "version": 3
   },
   "file_extension": ".py",
   "mimetype": "text/x-python",
   "name": "python",
   "nbconvert_exporter": "python",
   "pygments_lexer": "ipython3",
   "version": "3.9.10"
  },
  "orig_nbformat": 4
 },
 "nbformat": 4,
 "nbformat_minor": 2
}
